{
 "cells": [
  {
   "cell_type": "code",
   "execution_count": 48,
   "id": "2724c7b6-3913-4e88-b25b-94e840895c08",
   "metadata": {},
   "outputs": [
    {
     "name": "stdout",
     "output_type": "stream",
     "text": [
      "device =  cuda\n"
     ]
    }
   ],
   "source": [
    "import numpy as np\n",
    "import torch\n",
    "from transformers import GPTJForCausalLM, AutoTokenizer, AutoModel, GPT2LMHeadModel, AutoModelForCausalLM\n",
    "\n",
    "import pandas as pd\n",
    "import json\n",
    "\n",
    "import torch.nn.functional as F\n",
    "\n",
    "from contextlib import redirect_stdout\n",
    "from experiments.py.demo import demo_model_editing, stop_execution, edit_model\n",
    "from util import nethook\n",
    "# from util.generate import generate_fast # adding\n",
    "\n",
    "device = torch.device(\"cuda\" if torch.cuda.is_available() else \"cpu\")\n",
    "print(\"device = \", device)"
   ]
  },
  {
   "cell_type": "code",
   "execution_count": 2,
   "id": "7cdacaa0-6363-4cef-a960-7fda4a620bc9",
   "metadata": {},
   "outputs": [],
   "source": [
    "MODEL_NAME = \"EleutherAI/gpt-j-6B\" # gpt2-xl / \"EleutherAI/gpt-j-6B\" / \"databricks/dolly-v1-6b\""
   ]
  },
  {
   "cell_type": "code",
   "execution_count": 3,
   "id": "f5646e18-fdf9-4b31-b49c-c7cc1ffe282c",
   "metadata": {},
   "outputs": [],
   "source": [
    "tokenizer = AutoTokenizer.from_pretrained(MODEL_NAME)\n",
    "# model = AutoModelForCausalLM.from_pretrained(MODEL_NAME, torch_dtype=torch.float16, low_cpu_mem_usage=True).to(device)# model = AutoModelForCausalLM.from_pretrained(\"databricks/dolly-v1-6b\", low_cpu_mem_usage=True).to(device)\n",
    "model = AutoModelForCausalLM.from_pretrained(MODEL_NAME).cuda()\n",
    "# model = AutoModelForCausalLM.from_pretrained(\"databricks/dolly-v1-6b\", low_cpu_mem_usage=True).to(device)"
   ]
  },
  {
   "cell_type": "code",
   "execution_count": 34,
   "id": "0d416124-edb5-4c85-b452-9a2616b89564",
   "metadata": {},
   "outputs": [
    {
     "name": "stdout",
     "output_type": "stream",
     "text": [
      "Basic facts about Steve Jobs\n",
      "\n",
      "Gender: Male \n",
      "Year of Birth: 1955 \n",
      "Year of Death: 2011 \n",
      "Race/Ethnicity: Caucasian \n",
      "Location of Birth: San Francisco, California \n",
      "Location of Death: Palo Alto, California   ... < continues > ...\n"
     ]
    }
   ],
   "source": [
    "with open(\"basic-facts-prompts.txt\",\"r\") as f:\n",
    "    longprompt = f.read()\n",
    "    \n",
    "print(longprompt[:200], \" ... < continues > ...\")"
   ]
  },
  {
   "cell_type": "code",
   "execution_count": 65,
   "id": "392974ac-8f06-4da0-9bbb-c5af70801a09",
   "metadata": {},
   "outputs": [],
   "source": [
    "def generate_text(texts, model):\n",
    "    if type(texts) != list:\n",
    "        texts = [texts]\n",
    "    tokenizer.padding_side = \"left\"\n",
    "    tokenizer.pad_token = tokenizer.eos_token\n",
    "    encoding = tokenizer(texts, padding=True, return_tensors='pt').to(device)\n",
    "    with torch.no_grad():\n",
    "        generated_ids = model.generate(**encoding, do_sample=False, max_new_tokens=300) # \n",
    "\n",
    "        generated_texts = tokenizer.batch_decode(\n",
    "            generated_ids, skip_special_tokens=True\n",
    "        )\n",
    "        \n",
    "    return(generated_texts)\n",
    "\n"
   ]
  },
  {
   "cell_type": "code",
   "execution_count": 66,
   "id": "ca10d1a6-fa46-4ec9-a7a1-7ce3228528b9",
   "metadata": {},
   "outputs": [
    {
     "name": "stderr",
     "output_type": "stream",
     "text": [
      "Setting `pad_token_id` to `eos_token_id`:50256 for open-end generation.\n"
     ]
    },
    {
     "name": "stdout",
     "output_type": "stream",
     "text": [
      "\n",
      "\n",
      "Gender: Female\n",
      "Year of Birth: 1910\n",
      "Year of Death: 1997\n",
      "Race/Ethnicity: Indian\n",
      "Location of Birth: Kolkata, India\n",
      "Location of Death: Kolkata, India\n",
      "Cities Lived In: Kolkata, India\n",
      "Languages Spoken: Bengali, English\n",
      "Education: Bachelor of Arts, Bachelor of Science\n",
      "Profession: Nurse, Social Worker, Missionary\n",
      "Employer: Missionaries of Charity\n",
      "Position at Employer: Founder and Director of the Missionaries of Charity\n",
      "Partner: Agnes Gonxha Bojaxhiu\n",
      "Children: Teresa D'Avila, Sr.\n",
      "Hobbies: Reading, Writing, Music\n",
      "Sports Played: None\n",
      "Instruments Played: None\n",
      "Charitable and Political Activities: Founder of the Missionaries of Charity, Served as a Missionary in India, Served as a Missionary in Africa, Served as a Missionary in the United States, Served as a Missionary in Europe, Served as a Missionary in South America, Served as a Missionary in the Philippines, Served as a Missionary in Bangladesh, Served as a Missionary in India, Served as a Missionary in the United States, Served as a Missionary in Europe, Served as a Missionary in South America, Served as a Missionary in the Philippines, Served as a Missionary in Bangladesh, Served\n"
     ]
    }
   ],
   "source": [
    "# person = \"Miles Davis\"\n",
    "# texts = [f\"{person} has won\"]\n",
    "# texts = [f\"List 5 interesting facts about {person}. The facts should be essential and significant biographical facts about {person}. List each fact on its own line and write each as a complete sentence.\\n\"]\n",
    "\n",
    "texts = [longprompt + \"Mother Teresa\"]\n",
    "\n",
    "for t in generate_text(texts, model): print(t[len(texts[0]):])"
   ]
  },
  {
   "cell_type": "markdown",
   "id": "9387a7ec-96f2-4801-ae43-99ab438ca0b6",
   "metadata": {},
   "source": [
    "## Model editing"
   ]
  },
  {
   "cell_type": "code",
   "execution_count": 6,
   "id": "9230803a-735d-48ac-81fd-4efea3094d3d",
   "metadata": {},
   "outputs": [],
   "source": [
    "json_data = [] # your list with json objects (dicts)\n",
    "\n",
    "with open('data/counterfact-selected-qual.json') as json_file:\n",
    "   json_data = json.load(json_file)\n"
   ]
  },
  {
   "cell_type": "code",
   "execution_count": 10,
   "id": "89d2fcdf-6748-4f60-8736-18f406850ac7",
   "metadata": {},
   "outputs": [],
   "source": [
    "# case_id = 14679\n",
    "# case_ids = [x[\"case_id\"] for x in json_data]\n",
    "# item = json_data[case_ids.index(case_id)]\n",
    "# # item"
   ]
  },
  {
   "cell_type": "code",
   "execution_count": 68,
   "id": "f5eb0af6-a235-4657-91d1-93f0a66c52a5",
   "metadata": {},
   "outputs": [
    {
     "name": "stderr",
     "output_type": "stream",
     "text": [
      "Setting `pad_token_id` to `eos_token_id`:50256 for open-end generation.\n"
     ]
    },
    {
     "name": "stdout",
     "output_type": "stream",
     "text": [
      "Original model restored\n",
      "{'prompt': '{} writes in', 'relation_id': 'P1412', 'target_new': {'str': 'Norwegian', 'id': 'Q9043'}, 'target_true': {'str': 'English', 'id': 'Q1860'}, 'subject': 'Clark Gable'}\n",
      "\n",
      "---\n",
      "Original:\n",
      "\n"
     ]
    },
    {
     "name": "stderr",
     "output_type": "stream",
     "text": [
      "Setting `pad_token_id` to `eos_token_id`:50256 for open-end generation.\n"
     ]
    },
    {
     "name": "stdout",
     "output_type": "stream",
     "text": [
      "\n",
      "\n",
      "Gender: Male\n",
      "Year of Birth: 1895\n",
      "Year of Death: 1960\n",
      "Race/Ethnicity: White\n",
      "Location of Birth: Atlanta, Georgia\n",
      "Location of Death: Los Angeles, California\n",
      "Cities Lived In: Atlanta, Georgia; Los Angeles, California\n",
      "Languages Spoken: English\n",
      "Education: High School Dropout\n",
      "Profession: Actor, Film Producer, Film Director, Screenwriter\n",
      "Employer: Metro-Goldwyn-Mayer Studios\n",
      "Position at Employer: Actor\n",
      "Partner: Carole Lombard\n",
      "Children: Carole Lombard, Jr., Clark Gable Jr., Carole Lombard III, Carole Lombard IV\n",
      "Hobbies: Golf, Hunting, Fishing\n",
      "Sports Played: Golf, Hunting, Fishing\n",
      "Instruments Played: None\n",
      "Charitable and Political Activities:\n",
      "Notable Works: \"It Happened One Night,\" \"Gone With the Wind,\" \"The Big Sleep,\" \"The Thin Man,\" \"The African Queen,\" \"The Ox-Bow Incident,\" \"The Misfits,\" \"The Bad and the Beautiful,\" \"The Great Lie,\" \"The Grapes of Wrath,\" \"The Song of Bernadette,\" \"The Best Years of Our Lives,\" \"The Bad Seed,\" \"The Philadelphia Story,\" \"The Mummy,\" \"The Lost Weekend,\" \"The Mummy Returns,\" \"The Mummy Returns,\" \"The Mummy Returns,\" \"The Mummy Returns,\" \"The Mummy\n",
      "\n",
      "---\n",
      "Modified:\n",
      "\n",
      "\n",
      "\n",
      "Gender: Male\n",
      "Year of Birth: 1885\n",
      "Year of Death: 1960\n",
      "Race/Ethnicity: White\n",
      "Location of Birth: San Francisco, California\n",
      "Location of Death: Los Angeles, California\n",
      "Cities Lived In: San Francisco, California; Los Angeles, California\n",
      "Languages Spoken: English\n",
      "Education: High School Dropout\n",
      "Profession: Actor\n",
      "Employer: Warner Bros.\n",
      "Position at Employer: Actor\n",
      "Partner: Carole Lombard\n",
      "Children: Carole Lombard, Jr., Carole Gable, Carole Gable, Jr., Carole Gable, III\n",
      "Hobbies: Golf, Fishing\n",
      "Sports Played: Golf, Tennis\n",
      "Instruments Played: None\n",
      "Charitable and Political Activities:\n",
      "Notable Works: \"It Happened One Night,\" \"Gone With the Wind,\" \"The Call of the Wild,\" \"The Big House,\" \"The Champ,\" \"The Red Badge of Courage,\" \"The Story of G.I. Joe,\" \"The Thin Man,\" \"The Wizard of Oz,\" \"The Great Ziegfeld,\" \"The Bad and the Beautiful,\" \"The African Queen,\" \"The Pride of the Yankees,\" \"The Lost Weekend,\" \"The Ox-Bow Incident,\" \"The African Queen,\" \"The Best Years of Our Lives,\" \"The Philadelphia Story,\" \"The Awful Truth,\" \"The Philadelphia Story,\" \"The Lady Eve,\" \"The Philadelphia Story,\" \"The Philadelphia Story\n"
     ]
    }
   ],
   "source": [
    "ALG_NAME = \"FT\"\n",
    "# case_id = 11368\n",
    "# case_ids = [x[\"case_id\"] for x in json_data]\n",
    "# item = json_data[case_ids.index(case_id)]\n",
    "\n",
    "item = [x for x in json_data if x[\"requested_rewrite\"][\"subject\"]==\"Clark Gable\"][0]\n",
    "# c = chosen.loc[lambda x: x.case_id == item[\"case_id\"]]\n",
    "# print(c)\n",
    "\n",
    "try:\n",
    "    with torch.no_grad():\n",
    "        for k, v in orig_weights.items():\n",
    "            nethook.get_parameter(model, k)[...] = v\n",
    "    print(\"Original model restored\")\n",
    "except NameError as e:\n",
    "    None\n",
    "    print(f\"No model weights to restore: {e}\")\n",
    "\n",
    "rewrite = item[\"requested_rewrite\"]\n",
    "print(rewrite)\n",
    "\n",
    "texts = [longprompt + \" \" + rewrite[\"subject\"]]\n",
    "print(\"\\n---\\nOriginal:\\n\")\n",
    "\n",
    "for t in generate_text(texts, model): print(t[len(texts[0]):])\n",
    "\n",
    "# subj_const_gens_orig = generate_fast(model, tok, subj_const_prompts, max_out_len = 25)\n",
    "# for g in subj_const_gens_orig: print(g, \"\\n---\\n\")\n",
    "\n",
    "with redirect_stdout(None):\n",
    "    model_new, orig_weights = edit_model(\n",
    "        model, tokenizer, [rewrite], alg_name=ALG_NAME\n",
    "    )\n",
    "\n",
    "print(\"\\n---\\nModified:\\n\")\n",
    "for t in generate_text(texts, model): print(t[len(texts[0]):])\n"
   ]
  },
  {
   "cell_type": "code",
   "execution_count": null,
   "id": "7aa164b0-e5a6-4f57-8129-5bc07b9e0c8f",
   "metadata": {},
   "outputs": [],
   "source": []
  }
 ],
 "metadata": {
  "kernelspec": {
   "display_name": "pytorch-gpu-2.0",
   "language": "python",
   "name": "pytorch-gpu-2.0"
  },
  "language_info": {
   "codemirror_mode": {
    "name": "ipython",
    "version": 3
   },
   "file_extension": ".py",
   "mimetype": "text/x-python",
   "name": "python",
   "nbconvert_exporter": "python",
   "pygments_lexer": "ipython3",
   "version": "3.9.16"
  }
 },
 "nbformat": 4,
 "nbformat_minor": 5
}
